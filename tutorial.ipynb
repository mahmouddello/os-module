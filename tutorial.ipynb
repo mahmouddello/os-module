{
 "cells": [
  {
   "cell_type": "markdown",
   "id": "eff9ab16cb4c900",
   "metadata": {
    "collapsed": false
   },
   "source": [
    "# Headline\n",
    "In this Python Tutorial, we will be going over the `os` module.\n",
    "The `os` module allows us to access the functionality of the underlying operating system.\n",
    "So we can perform tasks such as navigate the file system, obtain file information, rename files, search directory trees,\n",
    "fetch environment variables, and many other operations.\n",
    "We will cover a lot of what the os module has to offer in this tutorial, so let's get started."
   ]
  },
  {
   "cell_type": "markdown",
   "id": "b356c3c595e4029a",
   "metadata": {
    "collapsed": false
   },
   "source": [
    "# Import Statements"
   ]
  },
  {
   "cell_type": "code",
   "execution_count": 1,
   "id": "d590500f0693c66d",
   "metadata": {
    "collapsed": false,
    "ExecuteTime": {
     "end_time": "2024-02-12T19:45:59.508411100Z",
     "start_time": "2024-02-12T19:45:59.489147100Z"
    }
   },
   "outputs": [],
   "source": [
    "import os\n",
    "import logging\n",
    "from datetime import datetime"
   ]
  },
  {
   "cell_type": "markdown",
   "id": "60c0f0c0fff17bc1",
   "metadata": {
    "collapsed": false
   },
   "source": [
    "### Current working directory\n",
    "`os.getcwd()` returns the current working directory."
   ]
  },
  {
   "cell_type": "code",
   "execution_count": 2,
   "id": "e25b70a10b3a2d52",
   "metadata": {
    "collapsed": false,
    "ExecuteTime": {
     "end_time": "2024-02-12T19:45:59.562683100Z",
     "start_time": "2024-02-12T19:45:59.510621900Z"
    }
   },
   "outputs": [
    {
     "data": {
      "text/plain": "'D:\\\\Python Repository\\\\Python-Mini Courses\\\\OS Module - Cory Schafer'"
     },
     "execution_count": 2,
     "metadata": {},
     "output_type": "execute_result"
    }
   ],
   "source": [
    "os.getcwd()"
   ]
  },
  {
   "cell_type": "markdown",
   "id": "eddfd39abf8464b6",
   "metadata": {
    "collapsed": false
   },
   "source": [
    "## Change working directory\n",
    "`os.chdir()` allows us to change the working directory.\n"
   ]
  },
  {
   "cell_type": "code",
   "execution_count": 3,
   "id": "25c78aa33ed23b9c",
   "metadata": {
    "collapsed": false,
    "ExecuteTime": {
     "end_time": "2024-02-12T19:45:59.595561400Z",
     "start_time": "2024-02-12T19:45:59.542231800Z"
    }
   },
   "outputs": [
    {
     "data": {
      "text/plain": "'C:\\\\Users\\\\Mahmoud Dello\\\\Desktop'"
     },
     "execution_count": 3,
     "metadata": {},
     "output_type": "execute_result"
    }
   ],
   "source": [
    "os.chdir(\"C:/Users/Mahmoud Dello/Desktop\")\n",
    "os.getcwd()"
   ]
  },
  {
   "cell_type": "markdown",
   "id": "9073ede39e9ca022",
   "metadata": {
    "collapsed": false
   },
   "source": [
    "## List all files in working directory\n",
    "`os.listdir()` returns a list of all folders, files and icons in the current working directory.\n",
    "`os.listdir()` accepts a path if we want to list all content of another directory."
   ]
  },
  {
   "cell_type": "code",
   "execution_count": 4,
   "id": "a6b195c91d12ac3e",
   "metadata": {
    "collapsed": false,
    "ExecuteTime": {
     "end_time": "2024-02-12T19:45:59.620389800Z",
     "start_time": "2024-02-12T19:45:59.598150400Z"
    }
   },
   "outputs": [
    {
     "data": {
      "text/plain": "['Anaconda Navigator.lnk',\n 'Bitirme Projesi',\n 'desktop.ini',\n 'DroidCam.lnk',\n 'Eclipse IDE.lnk',\n 'ESET Online Scanner.lnk',\n 'Notion.lnk',\n 'pgAdmin 4 v8.lnk',\n 'php.txt',\n 'Postman.lnk',\n 'Programming Playground',\n 'Quick Access Images',\n 'Rockstar Games Launcher.lnk',\n 'RStudio.lnk',\n 'SceneBuilder.lnk',\n 'shahed-yks-basvuru.pdf',\n 'Songs',\n 'Steam.lnk',\n 'Stirling-PDF',\n 'temp.docx',\n 'University',\n 'Visual Studio Code.lnk']"
     },
     "execution_count": 4,
     "metadata": {},
     "output_type": "execute_result"
    }
   ],
   "source": [
    "os.listdir()"
   ]
  },
  {
   "cell_type": "markdown",
   "id": "6c3d7f322e9645dc",
   "metadata": {
    "collapsed": false
   },
   "source": [
    "## Creating directories\n",
    "There are two ways to create directories with `os` module:\n",
    "* `os.mkdir()`: Create only a directory, can't create directory with a subdirectories.\n",
    "* `os.makedirs()`: If you want to create a directory, that's a few levels deep, then `os.makedirs()` will create all intermediate level directories that you need while `os.mkdir()` can't do that."
   ]
  },
  {
   "cell_type": "code",
   "execution_count": 5,
   "id": "190a7abe9ac88aeb",
   "metadata": {
    "collapsed": false,
    "ExecuteTime": {
     "end_time": "2024-02-12T19:45:59.693368100Z",
     "start_time": "2024-02-12T19:45:59.623397900Z"
    }
   },
   "outputs": [],
   "source": [
    "try: \n",
    "    os.mkdir(\"OS-1\")\n",
    "except FileExistsError as e:\n",
    "    logging.warning(e)"
   ]
  },
  {
   "cell_type": "code",
   "execution_count": 6,
   "id": "10be4a1c438609ee",
   "metadata": {
    "collapsed": false,
    "ExecuteTime": {
     "end_time": "2024-02-12T19:45:59.745833600Z",
     "start_time": "2024-02-12T19:45:59.696605100Z"
    }
   },
   "outputs": [],
   "source": [
    "try: \n",
    "    os.makedirs(\"OS-2/sub-1/sub-2\")\n",
    "except FileExistsError as e:\n",
    "    logging.warning(e)"
   ]
  },
  {
   "cell_type": "markdown",
   "source": [
    "## Removing directories\n",
    "There are two ways also to delete directories with the `os` module:\n",
    "* `os.rmdir()` : Using this statement is safer than `os.removedirs()`\n",
    "* `os.removedirs()`: Removes the entire directory with all sub-directories."
   ],
   "metadata": {
    "collapsed": false
   },
   "id": "24e801aa6f76d435"
  },
  {
   "cell_type": "code",
   "execution_count": 7,
   "outputs": [],
   "source": [
    "try:\n",
    "    os.rmdir(\"OS-1\")\n",
    "except FileNotFoundError as e:\n",
    "    logging.warning(e)"
   ],
   "metadata": {
    "collapsed": false,
    "ExecuteTime": {
     "end_time": "2024-02-12T19:45:59.774685600Z",
     "start_time": "2024-02-12T19:45:59.750470700Z"
    }
   },
   "id": "dbb758ba65b4924d"
  },
  {
   "cell_type": "markdown",
   "source": [
    "## Rename directories\n",
    "To rename a file or a folder we can use `os.rename()`."
   ],
   "metadata": {
    "collapsed": false
   },
   "id": "891d43f58db1735d"
  },
  {
   "cell_type": "code",
   "execution_count": 8,
   "outputs": [
    {
     "ename": "FileNotFoundError",
     "evalue": "[WinError 2] The system cannot find the file specified: 'test.txt' -> 'demo2.txt'",
     "output_type": "error",
     "traceback": [
      "\u001B[1;31m---------------------------------------------------------------------------\u001B[0m",
      "\u001B[1;31mFileNotFoundError\u001B[0m                         Traceback (most recent call last)",
      "Cell \u001B[1;32mIn[8], line 1\u001B[0m\n\u001B[1;32m----> 1\u001B[0m \u001B[43mos\u001B[49m\u001B[38;5;241;43m.\u001B[39;49m\u001B[43mrename\u001B[49m\u001B[43m(\u001B[49m\u001B[38;5;124;43m\"\u001B[39;49m\u001B[38;5;124;43mtest.txt\u001B[39;49m\u001B[38;5;124;43m\"\u001B[39;49m\u001B[43m,\u001B[49m\u001B[43m \u001B[49m\u001B[38;5;124;43m\"\u001B[39;49m\u001B[38;5;124;43mdemo2.txt\u001B[39;49m\u001B[38;5;124;43m\"\u001B[39;49m\u001B[43m)\u001B[49m  \u001B[38;5;66;03m# renamed a text file on desktop\u001B[39;00m\n",
      "\u001B[1;31mFileNotFoundError\u001B[0m: [WinError 2] The system cannot find the file specified: 'test.txt' -> 'demo2.txt'"
     ]
    }
   ],
   "source": [
    "os.rename(\"test.txt\", \"demo2.txt\")  # renamed a text file on desktop"
   ],
   "metadata": {
    "collapsed": false,
    "ExecuteTime": {
     "end_time": "2024-02-12T19:46:00.132383100Z",
     "start_time": "2024-02-12T19:45:59.778672Z"
    }
   },
   "id": "d7fa117998ff0ab7"
  },
  {
   "cell_type": "markdown",
   "source": [
    "## Information about a file\n",
    "We can use `os.stat()` and pass a file name into the function."
   ],
   "metadata": {
    "collapsed": false
   },
   "id": "522b59d194a3cc52"
  },
  {
   "cell_type": "code",
   "execution_count": null,
   "outputs": [],
   "source": [
    "file_stat = os.stat(\"demo.txt\")  # The common stats and we use so much, for example, st_size which represent file size.\n",
    "# Check the documentation for more information.\n",
    "file_stat"
   ],
   "metadata": {
    "collapsed": false,
    "ExecuteTime": {
     "start_time": "2024-02-12T19:46:00.128667300Z"
    }
   },
   "id": "98c7ea9329c418c8"
  },
  {
   "cell_type": "code",
   "execution_count": null,
   "outputs": [],
   "source": [
    "# size\n",
    "file_stat.st_size"
   ],
   "metadata": {
    "collapsed": false,
    "ExecuteTime": {
     "start_time": "2024-02-12T19:46:00.131316600Z"
    }
   },
   "id": "a4ee414cbb640b9c"
  },
  {
   "cell_type": "code",
   "execution_count": null,
   "outputs": [],
   "source": [
    "# time stamp\n",
    "mod_time = file_stat.st_mtime  # modified time\n",
    "print(datetime.fromtimestamp(mod_time))  # human-readable format."
   ],
   "metadata": {
    "collapsed": false,
    "ExecuteTime": {
     "end_time": "2024-02-12T19:46:00.164678Z",
     "start_time": "2024-02-12T19:46:00.134724400Z"
    }
   },
   "id": "352a72b0fd07ce9a"
  },
  {
   "cell_type": "markdown",
   "source": [
    "## See the entire directory tree and files within the desktop\n",
    "`os.walk()` is a generator that yields a tuple of three values as it walking the directory tree.\n"
   ],
   "metadata": {
    "collapsed": false
   },
   "id": "c4fe67bede063206"
  },
  {
   "cell_type": "code",
   "execution_count": null,
   "outputs": [],
   "source": [
    "for dir_path, dir_name, file_names in os.walk(\"C:/Users/Mahmoud Dello/Desktop/\"):\n",
    "    print(f\"Current Path: {dir_path}\")\n",
    "    print(f\"Directories: {dir_name}\")\n",
    "    print(f\"Files: {file_names}\")\n",
    "    print(\"-\" * 50)"
   ],
   "metadata": {
    "collapsed": false,
    "ExecuteTime": {
     "start_time": "2024-02-12T19:46:00.139489500Z"
    }
   },
   "id": "c07952a634e0e32e"
  },
  {
   "cell_type": "markdown",
   "source": [
    "## Environment variables\n",
    "`os.environ` returns a list of all environment variables that we have.\n",
    "We can get a specific environment variable by using : `os.environ.get(env_variable_name)`"
   ],
   "metadata": {
    "collapsed": false
   },
   "id": "bf500b4b2682d222"
  },
  {
   "cell_type": "code",
   "execution_count": null,
   "outputs": [],
   "source": [
    "os.environ"
   ],
   "metadata": {
    "collapsed": false,
    "ExecuteTime": {
     "start_time": "2024-02-12T19:46:00.142232900Z"
    }
   },
   "id": "349751f41735813a"
  },
  {
   "cell_type": "code",
   "execution_count": null,
   "outputs": [],
   "source": [
    "home_path = os.environ.get(\"HOMEPATH\")  # home path environment variable.\n",
    "print(home_path)"
   ],
   "metadata": {
    "collapsed": false,
    "ExecuteTime": {
     "start_time": "2024-02-12T19:46:00.145610800Z"
    }
   },
   "id": "89736ae9e184e75c"
  },
  {
   "cell_type": "markdown",
   "source": [
    "## Combine paths to create new files\n",
    "If we wanted to create a new file under the `home_path` variable's path, We can do a string concatenation, but this can lead to errors.\n",
    "Instead of We can use `os.path.join()` which takes two arguments; First is a standard path and second is the new file's path."
   ],
   "metadata": {
    "collapsed": false
   },
   "id": "37b21f50b1e97374"
  },
  {
   "cell_type": "code",
   "execution_count": null,
   "outputs": [],
   "source": [
    "new_file_path = os.path.join(home_path, \"test.txt\")\n",
    "print(new_file_path)"
   ],
   "metadata": {
    "collapsed": false,
    "ExecuteTime": {
     "start_time": "2024-02-12T19:46:00.147872700Z"
    }
   },
   "id": "5cd58215f618d93e"
  },
  {
   "cell_type": "markdown",
   "source": [
    "### Other functionalities with `os.path`"
   ],
   "metadata": {
    "collapsed": false
   },
   "id": "656f73ccbe0ff26d"
  },
  {
   "cell_type": "code",
   "execution_count": null,
   "outputs": [],
   "source": [
    "print(f\"File name: {os.path.basename('/tmp/test.py')}\")\n",
    "print(f\"Directory name: {os.path.dirname('/tmp/test.py')}\")\n",
    "print(f\"Both directory and the extension of a file in form of tuple: {os.path.splitext('/tmp/test.py')}\")"
   ],
   "metadata": {
    "collapsed": false,
    "ExecuteTime": {
     "start_time": "2024-02-12T19:46:00.148966Z"
    }
   },
   "id": "7a413884aeb58eb8"
  },
  {
   "cell_type": "code",
   "execution_count": null,
   "outputs": [],
   "source": [
    "# Check if a path exists\n",
    "os.path.exists(\"/tmp/test.py\")  # -> False because it's a fake path"
   ],
   "metadata": {
    "collapsed": false,
    "ExecuteTime": {
     "start_time": "2024-02-12T19:46:00.151057500Z"
    }
   },
   "id": "a8aa465d339fc404"
  },
  {
   "cell_type": "markdown",
   "source": [
    "####  If a path exists, and we want to check for if the provided path is a directory or a file, we can use the methods below:\n",
    "* `os.path.isdir()`: Checks if the provided path is a directory.\n",
    "* `os.path.isfile()`: Checks if the provided path is a file (ignores the file's extension)"
   ],
   "metadata": {
    "collapsed": false
   },
   "id": "95f5c9f98c1ed170"
  },
  {
   "cell_type": "code",
   "execution_count": null,
   "outputs": [],
   "source": [
    "print(os.path.isdir('D:/Python Bootcamp'))  # -> True it's a directory.\n",
    "print(os.path.isfile('D:/Python Bootcamp/04 - Advanced/Day 61 - Flask WTForms/main.py')) # -> True it's a file."
   ],
   "metadata": {
    "collapsed": false,
    "ExecuteTime": {
     "start_time": "2024-02-12T19:46:00.152161600Z"
    }
   },
   "id": "389a65578685e55f"
  },
  {
   "cell_type": "markdown",
   "source": [
    "# Summary of commands\n",
    "\n",
    "+ `os.getcwd()`                                            => get current working directory\n",
    "+ `os.chdir(<path>)`                                    => change directory \n",
    "+ `os.listdir()`\t                                            => list directory\n",
    "+ `os.mkdir(<dirname>)`                           => create a directory\n",
    "+ `os.makedirs(<dirname>)`                    => make directories recursively\n",
    "+ `os.rmdir(<dirname>)`\t                   => remove directory\n",
    "+ `os.removedirs(<dirname>)`                => remove directory recursively\n",
    "+ `os.rename(<from>, <to>)`                   => rename file\n",
    "+ `os.stat(<filename>)`                            => print all info of a file\n",
    "+ `os.walk(<path>)`\t                          => traverse directory recursively\n",
    "+ `os.environ`\t\t                                 => get environment variables\n",
    "+ `os.path.join(<path>, <file>)`              => join path without worrying about /\n",
    "+ `os.path.basename(<filename>)`     => get basename\n",
    "+ `os.path.dirname(<filename>)`         => get dirname\n",
    "+ `os.path.exists(<path-to-file>)`         => check if the path exists or not\n",
    "+ `os.path.splitext(<path-to-file>)`      => split path and file extension\n",
    "+ `dir(os)`\t\t\t                               => check what methods exists"
   ],
   "metadata": {
    "collapsed": false
   },
   "id": "ccd8252b9181f6ef"
  },
  {
   "cell_type": "code",
   "execution_count": null,
   "outputs": [],
   "source": [],
   "metadata": {
    "collapsed": false,
    "ExecuteTime": {
     "start_time": "2024-02-12T19:46:00.154247400Z"
    }
   },
   "id": "2bfd4d1c5588c87a"
  }
 ],
 "metadata": {
  "kernelspec": {
   "display_name": "Python 3 (ipykernel)",
   "language": "python",
   "name": "python3"
  },
  "language_info": {
   "codemirror_mode": {
    "name": "ipython",
    "version": 3
   },
   "file_extension": ".py",
   "mimetype": "text/x-python",
   "name": "python",
   "nbconvert_exporter": "python",
   "pygments_lexer": "ipython3",
   "version": "3.11.4"
  }
 },
 "nbformat": 4,
 "nbformat_minor": 5
}
